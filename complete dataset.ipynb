{
 "cells": [
  {
   "cell_type": "code",
   "execution_count": 52,
   "id": "ad50c454",
   "metadata": {},
   "outputs": [],
   "source": [
    "import pandas as pd"
   ]
  },
  {
   "cell_type": "code",
   "execution_count": 53,
   "id": "b08cc853",
   "metadata": {},
   "outputs": [],
   "source": [
    "mx_df = pd.read_csv('import_export_dataset.csv')\n",
    "latlon_df = pd.read_csv('position_countries.csv')"
   ]
  },
  {
   "cell_type": "code",
   "execution_count": 56,
   "id": "99872200",
   "metadata": {
    "scrolled": true
   },
   "outputs": [],
   "source": [
    "#def locate_countries(df, lat, lon):\n",
    "    countries = df.loc[:,'REPORTER']\n",
    "# #  latitude = []\n",
    " #  longitude = []\n",
    " #  for i in range(len(df)):\n",
    " #      latitude[i] = \n",
    " #      \n",
    " #          #df = df.assign(latitude = lat[country, value])\n",
    "            #df = df.assign(longitude = lon[country, value])\n",
    "    return df"
   ]
  },
  {
   "cell_type": "code",
   "execution_count": 66,
   "id": "839336f5",
   "metadata": {},
   "outputs": [
    {
     "ename": "IndexError",
     "evalue": "list assignment index out of range",
     "output_type": "error",
     "traceback": [
      "\u001b[1;31m---------------------------------------------------------------------------\u001b[0m",
      "\u001b[1;31mIndexError\u001b[0m                                Traceback (most recent call last)",
      "\u001b[1;32m<ipython-input-66-9fb6d2d8d4a1>\u001b[0m in \u001b[0;36m<module>\u001b[1;34m\u001b[0m\n\u001b[0;32m      4\u001b[0m \u001b[0mlongitude\u001b[0m \u001b[1;33m=\u001b[0m \u001b[1;33m[\u001b[0m\u001b[1;33m]\u001b[0m\u001b[1;33m\u001b[0m\u001b[1;33m\u001b[0m\u001b[0m\n\u001b[0;32m      5\u001b[0m \u001b[1;32mfor\u001b[0m \u001b[0mi\u001b[0m \u001b[1;32min\u001b[0m \u001b[0mrange\u001b[0m\u001b[1;33m(\u001b[0m\u001b[0mlen\u001b[0m\u001b[1;33m(\u001b[0m\u001b[0mmx_df\u001b[0m\u001b[1;33m)\u001b[0m\u001b[1;33m)\u001b[0m\u001b[1;33m:\u001b[0m\u001b[1;33m\u001b[0m\u001b[1;33m\u001b[0m\u001b[0m\n\u001b[1;32m----> 6\u001b[1;33m     \u001b[0mlatitude\u001b[0m\u001b[1;33m[\u001b[0m\u001b[0mi\u001b[0m\u001b[1;33m]\u001b[0m \u001b[1;33m=\u001b[0m \u001b[0mlatlon_df\u001b[0m\u001b[1;33m.\u001b[0m\u001b[0mloc\u001b[0m\u001b[1;33m[\u001b[0m\u001b[1;33m:\u001b[0m\u001b[1;33m,\u001b[0m\u001b[1;34m'name'\u001b[0m\u001b[1;33m]\u001b[0m \u001b[1;33m==\u001b[0m \u001b[0mmx_df\u001b[0m\u001b[1;33m.\u001b[0m\u001b[0mloc\u001b[0m\u001b[1;33m[\u001b[0m\u001b[0mi\u001b[0m\u001b[1;33m,\u001b[0m\u001b[1;34m'REPORTER'\u001b[0m\u001b[1;33m]\u001b[0m\u001b[1;33m\u001b[0m\u001b[1;33m\u001b[0m\u001b[0m\n\u001b[0m",
      "\u001b[1;31mIndexError\u001b[0m: list assignment index out of range"
     ]
    }
   ],
   "source": [
    "#funzione \n",
    "\n",
    "latitude = []\n",
    "longitude = []\n",
    "for i in range(len(mx_df)):\n",
    "    latitude[i] = latlon_df.loc[:,'name'] == mx_df.loc[i,'REPORTER']"
   ]
  },
  {
   "cell_type": "code",
   "execution_count": 61,
   "id": "71d70810",
   "metadata": {},
   "outputs": [
    {
     "ename": "KeyError",
     "evalue": "('Belgium', dict_values([47.516231, 50.503887, 42.733883, 35.126413, 51.165691, 56.26392, 58.595272, 40.463667, 61.92411, 46.227638, 55.378051, 39.074208, 45.1, 47.162494, 53.41291, 41.87194, 55.169438, 49.815273, 56.879635, 35.937496, 52.132633, 51.919438, 39.399872, 45.943161, 60.128161, 46.151241, 48.669026]))",
     "output_type": "error",
     "traceback": [
      "\u001b[1;31m---------------------------------------------------------------------------\u001b[0m",
      "\u001b[1;31mKeyError\u001b[0m                                  Traceback (most recent call last)",
      "\u001b[1;32m<ipython-input-61-25665bb9933d>\u001b[0m in \u001b[0;36m<module>\u001b[1;34m\u001b[0m\n\u001b[1;32m----> 1\u001b[1;33m \u001b[0mlocate_countries\u001b[0m\u001b[1;33m(\u001b[0m\u001b[0mmx_df\u001b[0m\u001b[1;33m,\u001b[0m \u001b[0mlatdic\u001b[0m\u001b[1;33m,\u001b[0m \u001b[0mlondic\u001b[0m\u001b[1;33m)\u001b[0m\u001b[1;33m\u001b[0m\u001b[1;33m\u001b[0m\u001b[0m\n\u001b[0m",
      "\u001b[1;32m<ipython-input-56-de730670db25>\u001b[0m in \u001b[0;36mlocate_countries\u001b[1;34m(df, lat, lon)\u001b[0m\n\u001b[0;32m      4\u001b[0m     \u001b[0mvalue\u001b[0m \u001b[1;33m=\u001b[0m \u001b[0mlat\u001b[0m\u001b[1;33m.\u001b[0m\u001b[0mvalues\u001b[0m\u001b[1;33m(\u001b[0m\u001b[1;33m)\u001b[0m\u001b[1;33m\u001b[0m\u001b[1;33m\u001b[0m\u001b[0m\n\u001b[0;32m      5\u001b[0m     \u001b[1;32mfor\u001b[0m \u001b[0mcountry\u001b[0m \u001b[1;32min\u001b[0m \u001b[0mcountries\u001b[0m\u001b[1;33m:\u001b[0m\u001b[1;33m\u001b[0m\u001b[1;33m\u001b[0m\u001b[0m\n\u001b[1;32m----> 6\u001b[1;33m             \u001b[0mdf\u001b[0m \u001b[1;33m=\u001b[0m \u001b[0mdf\u001b[0m\u001b[1;33m.\u001b[0m\u001b[0massign\u001b[0m\u001b[1;33m(\u001b[0m\u001b[0mlatitude\u001b[0m \u001b[1;33m=\u001b[0m \u001b[0mlat\u001b[0m\u001b[1;33m[\u001b[0m\u001b[0mcountry\u001b[0m\u001b[1;33m,\u001b[0m \u001b[0mvalue\u001b[0m\u001b[1;33m]\u001b[0m\u001b[1;33m)\u001b[0m\u001b[1;33m\u001b[0m\u001b[1;33m\u001b[0m\u001b[0m\n\u001b[0m\u001b[0;32m      7\u001b[0m     \u001b[1;32mreturn\u001b[0m \u001b[0mdf\u001b[0m\u001b[1;33m\u001b[0m\u001b[1;33m\u001b[0m\u001b[0m\n",
      "\u001b[1;31mKeyError\u001b[0m: ('Belgium', dict_values([47.516231, 50.503887, 42.733883, 35.126413, 51.165691, 56.26392, 58.595272, 40.463667, 61.92411, 46.227638, 55.378051, 39.074208, 45.1, 47.162494, 53.41291, 41.87194, 55.169438, 49.815273, 56.879635, 35.937496, 52.132633, 51.919438, 39.399872, 45.943161, 60.128161, 46.151241, 48.669026]))"
     ]
    }
   ],
   "source": [
    "locate_countries(mx_df, latdic, londic)"
   ]
  },
  {
   "cell_type": "code",
   "execution_count": 59,
   "id": "0389d359",
   "metadata": {},
   "outputs": [],
   "source": [
    "#for loop: per ogni oggetto nel df aggiungi key = country, value = lat/lon \n",
    "\n",
    "latdic = {\"Austria\" : 47.516231, \n",
    "          \"Belgium\": 50.503887, \n",
    "             \"Bulgaria\": 42.733883, \n",
    "             \"Cyprus\": 35.126413, \n",
    "             \"Germany\": 51.165691, \n",
    "             \"Denmark\": 56.26392, \n",
    "             \"Estonia\" : 58.595272, \n",
    "             \"Spain\": 40.463667, \n",
    "             \"Finland\": 61.92411, \n",
    "             \"France\": 46.227638, \n",
    "             \"United Kingdom\" : 55.378051, \n",
    "             \"Greece\": 39.074208, \n",
    "             \"Croatia\": 45.1, \n",
    "             \"Hungary\": 47.162494, \n",
    "             \"Ireland\": 53.41291, \n",
    "             \"Italy\": 41.87194, \n",
    "             \"Lithuania\": 55.169438, \n",
    "             \"Luxembourg\": 49.815273, \n",
    "             \"Latvia\": 56.879635, \n",
    "             \"Malta\": 35.937496, \n",
    "             \"Netherlands\": 52.132633, \n",
    "             \"Poland\": 51.919438, \n",
    "             \"Portugal\": 39.399872, \n",
    "             \"Romania\": 45.943161, \n",
    "             \"Sweden\": 60.128161, \n",
    "             \"Slovenia\": 46.151241, \n",
    "             \"Slovakia\": 48.669026\n",
    "             }"
   ]
  },
  {
   "cell_type": "code",
   "execution_count": null,
   "id": "38d1a445",
   "metadata": {},
   "outputs": [],
   "source": []
  },
  {
   "cell_type": "code",
   "execution_count": 60,
   "id": "5d89fd9b",
   "metadata": {},
   "outputs": [],
   "source": [
    "londic = {\"Austria\" : 14.550072, \n",
    "             \"Belgium\": 4.469936, \n",
    "             \"Bulgaria\": 25.48583, \n",
    "             \"Cyprus\": 33.429859, \n",
    "             \"Germany\":10.451526, \n",
    "             \"Denmark\": 9.501785, \n",
    "             \"Estonia\" : 25.013607, \n",
    "             \"Spain\": -3.74922, \n",
    "             \"Finland\": 25.748151, \n",
    "             \"France\": 2.213749, \n",
    "             \"United Kingdom\" :-3.435973, \n",
    "             \"Greece\": 21.824312, \n",
    "             \"Croatia\": 15.2, \n",
    "             \"Hungary\": 19.503304, \n",
    "             \"Ireland\": -8.24389, \n",
    "             \"Italy\": 12.56738, \n",
    "             \"Lithuania\": 23.881275, \n",
    "             \"Luxembourg\": 6.129583, \n",
    "             \"Latvia\": 24.603189, \n",
    "             \"Malta\": 14.375416, \n",
    "             \"Netherlands\": 5.291266, \n",
    "             \"Poland\": 19.145136, \n",
    "             \"Portugal\": -8.224454, \n",
    "             \"Romania\":24.96676, \n",
    "             \"Sweden\":18.643501, \n",
    "             \"Slovenia\": 14.995463, \n",
    "             \"Slovakia\": 19.699024\n",
    "             }"
   ]
  }
 ],
 "metadata": {
  "kernelspec": {
   "display_name": "Python 3",
   "language": "python",
   "name": "python3"
  },
  "language_info": {
   "codemirror_mode": {
    "name": "ipython",
    "version": 3
   },
   "file_extension": ".py",
   "mimetype": "text/x-python",
   "name": "python",
   "nbconvert_exporter": "python",
   "pygments_lexer": "ipython3",
   "version": "3.8.8"
  }
 },
 "nbformat": 4,
 "nbformat_minor": 5
}
