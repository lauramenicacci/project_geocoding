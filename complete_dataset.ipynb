{
 "cells": [
  {
   "cell_type": "code",
   "execution_count": 6,
   "id": "ad50c454",
   "metadata": {},
   "outputs": [],
   "source": [
    "import pandas as pd"
   ]
  },
  {
   "cell_type": "code",
   "execution_count": 7,
   "id": "b08cc853",
   "metadata": {},
   "outputs": [],
   "source": [
    "mx_df = pd.read_csv('import_export_dataset.csv')\n",
    "latlon_df = pd.read_csv('position_countries.csv')"
   ]
  },
  {
   "cell_type": "code",
   "execution_count": 13,
   "id": "3b57d948",
   "metadata": {},
   "outputs": [],
   "source": [
    "latdic = {}\n",
    "for i in range(len(latlon_df)):\n",
    "    latdic.update({latlon_df.loc[i,'name'] : latlon_df.loc[i,'latitude']})"
   ]
  },
  {
   "cell_type": "code",
   "execution_count": 14,
   "id": "446faa08",
   "metadata": {},
   "outputs": [],
   "source": [
    "londic = {}\n",
    "for i in range(len(latlon_df)):\n",
    "    latdic.update({latlon_df.loc[i,'name'] : latlon_df.loc[i, 'longitude']})"
   ]
  },
  {
   "cell_type": "code",
   "execution_count": 56,
   "id": "99872200",
   "metadata": {
    "scrolled": true
   },
   "outputs": [],
   "source": [
    "#function\n",
    "def locate_countries(df, lat, lon):\n",
    "    for i in range(len(df)):\n",
    "        latitude[i] = \n",
    "      \n",
    "df = df.assign(latitude = lat[country, value])\n",
    "df = df.assign(longitude = lon[country, value])\n",
    "    return df"
   ]
  },
  {
   "cell_type": "code",
   "execution_count": 15,
   "id": "839336f5",
   "metadata": {},
   "outputs": [
    {
     "ename": "SyntaxError",
     "evalue": "unmatched ')' (<ipython-input-15-d070c7866a1b>, line 4)",
     "output_type": "error",
     "traceback": [
      "\u001b[1;36m  File \u001b[1;32m\"<ipython-input-15-d070c7866a1b>\"\u001b[1;36m, line \u001b[1;32m4\u001b[0m\n\u001b[1;33m    latitude[i] = latlon_df.loc[i,'name'] == mx_df.loc[i,'REPORTER'])\u001b[0m\n\u001b[1;37m                                                                    ^\u001b[0m\n\u001b[1;31mSyntaxError\u001b[0m\u001b[1;31m:\u001b[0m unmatched ')'\n"
     ]
    }
   ],
   "source": [
    "#try without function\n",
    "\n",
    "for i in range(len(mx_df)):\n",
    "    latitude[i] ="
   ]
  },
  {
   "cell_type": "code",
   "execution_count": 61,
   "id": "71d70810",
   "metadata": {},
   "outputs": [
    {
     "ename": "KeyError",
     "evalue": "('Belgium', dict_values([47.516231, 50.503887, 42.733883, 35.126413, 51.165691, 56.26392, 58.595272, 40.463667, 61.92411, 46.227638, 55.378051, 39.074208, 45.1, 47.162494, 53.41291, 41.87194, 55.169438, 49.815273, 56.879635, 35.937496, 52.132633, 51.919438, 39.399872, 45.943161, 60.128161, 46.151241, 48.669026]))",
     "output_type": "error",
     "traceback": [
      "\u001b[1;31m---------------------------------------------------------------------------\u001b[0m",
      "\u001b[1;31mKeyError\u001b[0m                                  Traceback (most recent call last)",
      "\u001b[1;32m<ipython-input-61-25665bb9933d>\u001b[0m in \u001b[0;36m<module>\u001b[1;34m\u001b[0m\n\u001b[1;32m----> 1\u001b[1;33m \u001b[0mlocate_countries\u001b[0m\u001b[1;33m(\u001b[0m\u001b[0mmx_df\u001b[0m\u001b[1;33m,\u001b[0m \u001b[0mlatdic\u001b[0m\u001b[1;33m,\u001b[0m \u001b[0mlondic\u001b[0m\u001b[1;33m)\u001b[0m\u001b[1;33m\u001b[0m\u001b[1;33m\u001b[0m\u001b[0m\n\u001b[0m",
      "\u001b[1;32m<ipython-input-56-de730670db25>\u001b[0m in \u001b[0;36mlocate_countries\u001b[1;34m(df, lat, lon)\u001b[0m\n\u001b[0;32m      4\u001b[0m     \u001b[0mvalue\u001b[0m \u001b[1;33m=\u001b[0m \u001b[0mlat\u001b[0m\u001b[1;33m.\u001b[0m\u001b[0mvalues\u001b[0m\u001b[1;33m(\u001b[0m\u001b[1;33m)\u001b[0m\u001b[1;33m\u001b[0m\u001b[1;33m\u001b[0m\u001b[0m\n\u001b[0;32m      5\u001b[0m     \u001b[1;32mfor\u001b[0m \u001b[0mcountry\u001b[0m \u001b[1;32min\u001b[0m \u001b[0mcountries\u001b[0m\u001b[1;33m:\u001b[0m\u001b[1;33m\u001b[0m\u001b[1;33m\u001b[0m\u001b[0m\n\u001b[1;32m----> 6\u001b[1;33m             \u001b[0mdf\u001b[0m \u001b[1;33m=\u001b[0m \u001b[0mdf\u001b[0m\u001b[1;33m.\u001b[0m\u001b[0massign\u001b[0m\u001b[1;33m(\u001b[0m\u001b[0mlatitude\u001b[0m \u001b[1;33m=\u001b[0m \u001b[0mlat\u001b[0m\u001b[1;33m[\u001b[0m\u001b[0mcountry\u001b[0m\u001b[1;33m,\u001b[0m \u001b[0mvalue\u001b[0m\u001b[1;33m]\u001b[0m\u001b[1;33m)\u001b[0m\u001b[1;33m\u001b[0m\u001b[1;33m\u001b[0m\u001b[0m\n\u001b[0m\u001b[0;32m      7\u001b[0m     \u001b[1;32mreturn\u001b[0m \u001b[0mdf\u001b[0m\u001b[1;33m\u001b[0m\u001b[1;33m\u001b[0m\u001b[0m\n",
      "\u001b[1;31mKeyError\u001b[0m: ('Belgium', dict_values([47.516231, 50.503887, 42.733883, 35.126413, 51.165691, 56.26392, 58.595272, 40.463667, 61.92411, 46.227638, 55.378051, 39.074208, 45.1, 47.162494, 53.41291, 41.87194, 55.169438, 49.815273, 56.879635, 35.937496, 52.132633, 51.919438, 39.399872, 45.943161, 60.128161, 46.151241, 48.669026]))"
     ]
    }
   ],
   "source": [
    "locate_countries(mx_df, latdic, londic)"
   ]
  }
 ],
 "metadata": {
  "kernelspec": {
   "display_name": "Python 3",
   "language": "python",
   "name": "python3"
  },
  "language_info": {
   "codemirror_mode": {
    "name": "ipython",
    "version": 3
   },
   "file_extension": ".py",
   "mimetype": "text/x-python",
   "name": "python",
   "nbconvert_exporter": "python",
   "pygments_lexer": "ipython3",
   "version": "3.8.8"
  }
 },
 "nbformat": 4,
 "nbformat_minor": 5
}
